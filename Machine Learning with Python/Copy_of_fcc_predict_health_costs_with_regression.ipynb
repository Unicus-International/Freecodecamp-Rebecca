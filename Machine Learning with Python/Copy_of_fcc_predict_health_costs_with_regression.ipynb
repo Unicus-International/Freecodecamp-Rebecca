{
  "cells": [
    {
      "cell_type": "markdown",
      "metadata": {
        "id": "view-in-github",
        "colab_type": "text"
      },
      "source": [
        "<a href=\"https://colab.research.google.com/github/Rebecca-kve/FreeCodeCamp/blob/main/Machine%20Learning%20with%20Python/Copy_of_fcc_predict_health_costs_with_regression.ipynb\" target=\"_parent\"><img src=\"https://colab.research.google.com/assets/colab-badge.svg\" alt=\"Open In Colab\"/></a>"
      ]
    },
    {
      "cell_type": "code",
      "execution_count": null,
      "metadata": {
        "id": "1rRo8oNqZ-Rj"
      },
      "outputs": [],
      "source": [
        "# Import libraries. You may or may not use all of these.\n",
        "!pip install -q git+https://github.com/tensorflow/docs\n",
        "import matplotlib.pyplot as plt\n",
        "import numpy as np\n",
        "import pandas as pd\n",
        "\n",
        "try:\n",
        "  # %tensorflow_version only exists in Colab.\n",
        "  %tensorflow_version 2.x\n",
        "except Exception:\n",
        "  pass\n",
        "import tensorflow as tf\n",
        "\n",
        "from tensorflow import keras\n",
        "from tensorflow.keras import layers\n",
        "\n",
        "import tensorflow_docs as tfdocs\n",
        "import tensorflow_docs.plots\n",
        "import tensorflow_docs.modeling"
      ]
    },
    {
      "cell_type": "code",
      "source": [
        "\n",
        "from tensorflow.keras import layers\n",
        "from sklearn.model_selection import train_test_split\n",
        "from sklearn.preprocessing import StandardScaler, OneHotEncoder\n",
        "from sklearn.compose import ColumnTransformer\n",
        "from sklearn.pipeline import Pipeline"
      ],
      "metadata": {
        "id": "uRQVph8m3mVZ"
      },
      "execution_count": null,
      "outputs": []
    },
    {
      "cell_type": "code",
      "execution_count": null,
      "metadata": {
        "id": "CiX2FI4gZtTt"
      },
      "outputs": [],
      "source": [
        "# Import data\n",
        "!wget https://cdn.freecodecamp.org/project-data/health-costs/insurance.csv\n",
        "dataset = pd.read_csv('insurance.csv')\n",
        "dataset.tail()"
      ]
    },
    {
      "cell_type": "code",
      "source": [
        "# Convert categorical columns to numerical using OneHotEncoding\n",
        "categorical_columns = ['sex', 'smoker', 'region']\n",
        "numerical_columns = ['age', 'bmi', 'children']\n",
        "\n",
        "# Separate features and labels\n",
        "X = dataset.drop('expenses', axis=1)\n",
        "y = dataset['expenses']\n",
        "\n",
        "# Build a preprocessor to handle numerical scaling and categorical encoding\n",
        "preprocessor = ColumnTransformer(\n",
        "    transformers=[\n",
        "        ('num', StandardScaler(), numerical_columns),  # Scale numerical columns\n",
        "        ('cat', OneHotEncoder(), categorical_columns)  # One-hot encode categorical columns\n",
        "    ])\n",
        "\n",
        "# Example: Add an interaction term between BMI and smoker status\n",
        "dataset['bmi_smoker_interaction'] = dataset['bmi'] * (dataset['smoker'] == 'yes').astype(int)\n",
        "\n",
        "\n",
        "# Apply the transformations to the features\n",
        "X_transformed = preprocessor.fit_transform(X)\n",
        "\n",
        "# Step 4: Split the dataset into training and test sets (80% train, 20% test)\n",
        "train_dataset, test_dataset, train_labels, test_labels = train_test_split(X_transformed, y, test_size=0.2, random_state=42)\n"
      ],
      "metadata": {
        "id": "oif78tds20IQ"
      },
      "execution_count": null,
      "outputs": []
    },
    {
      "cell_type": "code",
      "execution_count": null,
      "metadata": {
        "id": "LcopvQh3X-kX",
        "collapsed": true
      },
      "outputs": [],
      "source": [
        "\n",
        "def build_model():\n",
        "    model = tf.keras.Sequential([\n",
        "        tf.keras.Input(shape=[train_dataset.shape[1]]),         # Input layer\n",
        "        layers.Dense(128, activation='relu', kernel_regularizer=tf.keras.regularizers.l2(0.001)),\n",
        "        layers.Dropout(0.2),                                    # Dropout to prevent overfitting\n",
        "        layers.Dense(64, activation='relu', kernel_regularizer=tf.keras.regularizers.l2(0.001)),\n",
        "        layers.Dropout(0.2),\n",
        "        layers.Dense(32, activation='relu', kernel_regularizer=tf.keras.regularizers.l2(0.001)),\n",
        "        layers.Dense(1)                                         # Output layer for regression\n",
        "    ])\n",
        "\n",
        "    # Compile the model with a reduced learning rate\n",
        "    optimizer = tf.keras.optimizers.Adam(learning_rate=0.001)   # Reduced learning rate\n",
        "    model.compile(optimizer=optimizer, loss='mse', metrics=['mae', 'mse'])\n",
        "\n",
        "    return model\n",
        "\n",
        "\n",
        "model = build_model()\n",
        "\n",
        "# Add early stopping to stop training when validation loss stops improving\n",
        "early_stop = tf.keras.callbacks.EarlyStopping(monitor='val_loss', patience=10)\n",
        "\n",
        "# Train the model\n",
        "history = model.fit(\n",
        "    train_dataset,\n",
        "    train_labels,\n",
        "    epochs=200,                  # Increase the number of epochs\n",
        "    validation_split=0.2,        # Use 20% of the training data for validation\n",
        "    verbose=1,\n",
        "    callbacks=[early_stop]       # Early stopping to avoid overfitting\n",
        ")"
      ]
    },
    {
      "cell_type": "code",
      "source": [
        "# Step 7: Plot the training progress (Optional, but helps visualize training)\n",
        "plt.figure()\n",
        "plt.xlabel('Epoch')\n",
        "plt.ylabel('Mean Absolute Error [Expenses]')\n",
        "plt.plot(history.epoch, np.array(history.history['mae']), label='Train Loss')\n",
        "plt.plot(history.epoch, np.array(history.history['val_mae']), label='Val Loss')\n",
        "plt.legend()\n",
        "plt.show()\n",
        "\n",
        "# Check if the Mean Absolute Error is less than 3500\n",
        "print(\"Testing set Mean Abs Error: {:5.2f} expenses\".format(mae))"
      ],
      "metadata": {
        "collapsed": true,
        "id": "S06IHKE03PrY"
      },
      "execution_count": null,
      "outputs": []
    },
    {
      "cell_type": "code",
      "execution_count": null,
      "metadata": {
        "id": "Xe7RXH3N3CWU"
      },
      "outputs": [],
      "source": [
        "# RUN THIS CELL TO TEST YOUR MODEL. DO NOT MODIFY CONTENTS.\n",
        "# Test model by checking how well the model generalizes using the test set.\n",
        "loss, mae, mse = model.evaluate(test_dataset, test_labels, verbose=2)\n",
        "\n",
        "print(\"Testing set Mean Abs Error: {:5.2f} expenses\".format(mae))\n",
        "\n",
        "if mae < 3500:\n",
        "  print(\"You passed the challenge. Great job!\")\n",
        "else:\n",
        "  print(\"The Mean Abs Error must be less than 3500. Keep trying.\")\n",
        "\n",
        "# Plot predictions.\n",
        "test_predictions = model.predict(test_dataset).flatten()\n",
        "\n",
        "a = plt.axes(aspect='equal')\n",
        "plt.scatter(test_labels, test_predictions)\n",
        "plt.xlabel('True values (expenses)')\n",
        "plt.ylabel('Predictions (expenses)')\n",
        "lims = [0, 50000]\n",
        "plt.xlim(lims)\n",
        "plt.ylim(lims)\n",
        "_ = plt.plot(lims,lims)\n"
      ]
    }
  ],
  "metadata": {
    "colab": {
      "private_outputs": true,
      "provenance": [],
      "toc_visible": true,
      "include_colab_link": true
    },
    "kernelspec": {
      "display_name": "Python 3",
      "name": "python3"
    }
  },
  "nbformat": 4,
  "nbformat_minor": 0
}